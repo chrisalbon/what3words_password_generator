{
 "metadata": {
  "name": "",
  "signature": "sha256:8637c716447530127b2dcf0bdb3f18900f85f5447e8009b254c1fab9e04379f8"
 },
 "nbformat": 3,
 "nbformat_minor": 0,
 "worksheets": [
  {
   "cells": [
    {
     "cell_type": "markdown",
     "metadata": {},
     "source": [
      "# Creating Passwords Using What3Words"
     ]
    },
    {
     "cell_type": "markdown",
     "metadata": {},
     "source": [
      "## Load modules"
     ]
    },
    {
     "cell_type": "code",
     "collapsed": false,
     "input": [
      "# import preliminaries\n",
      "import random\n",
      "import requests"
     ],
     "language": "python",
     "metadata": {},
     "outputs": [],
     "prompt_number": 1
    },
    {
     "cell_type": "markdown",
     "metadata": {},
     "source": [
      "## Create the function"
     ]
    },
    {
     "cell_type": "code",
     "collapsed": false,
     "input": [
      "# Create a make_password function that, \n",
      "# by default has numbers=true and symbol=true,\n",
      "def make_password(numbers=True, symbol=True, capitalize=True):\n",
      "    # set the api key (change this to your own)\n",
      "    api_key = 'YOUR_API_KEY'\n",
      "    \n",
      "    # Create a random latitude and longitude\n",
      "    latitude = float(random.uniform(-90.0000,90.0000))\n",
      "    longitude = float(random.uniform(-90.0000,90.0000))\n",
      "\n",
      "    # Construct a What3Words API request\n",
      "    url = 'http://api.what3words.com/position?key=%s&position=%f,%f' % (api_key, latitude, longitude)\n",
      "    \n",
      "    # Make the API request\n",
      "    r = requests.get(url)\n",
      "\n",
      "    # Load the requested doc as json\n",
      "    r_content = r.json()\n",
      "    \n",
      "    # Grab the list of words\n",
      "    words = r_content['words']\n",
      "    \n",
      "    # Create two empty string varables, one for digits \n",
      "    # and one for characters. We do this so\n",
      "    # if numbers and symbols is false\n",
      "    # the password string is still created\n",
      "    digits = ''\n",
      "    character = ''\n",
      "\n",
      "    # If number is true, we create a random number\n",
      "    # as a strong\n",
      "    if numbers == True:\n",
      "        digits = str(random.randint(0,100))\n",
      "\n",
      "    # If symbol is true, we choose a random character\n",
      "    if symbol == True:\n",
      "        character = random.choice(['+', '-', '%', '@', '=', '?', '!'])\n",
      "        \n",
      "    # If captialize is true, we capitalized the\n",
      "    # first letter of each word\n",
      "    if capitalize == True:\n",
      "        words = [item.capitalize() for item in words]\n",
      "\n",
      "    # Construct the password using all three words, digits, and characters\n",
      "    password = words[0] + words[1] + words[2] + digits + character\n",
      "    \n",
      "    # Returns the password\n",
      "    return password"
     ],
     "language": "python",
     "metadata": {},
     "outputs": [],
     "prompt_number": 2
    },
    {
     "cell_type": "markdown",
     "metadata": {},
     "source": [
      "## Run the function"
     ]
    },
    {
     "cell_type": "code",
     "collapsed": false,
     "input": [
      "# Run make_password\n",
      "make_password(numbers=True, symbol=False, capitalize=True)"
     ],
     "language": "python",
     "metadata": {},
     "outputs": [
      {
       "metadata": {},
       "output_type": "pyout",
       "prompt_number": 3,
       "text": [
        "'RenovateCheersLegitimately27'"
       ]
      }
     ],
     "prompt_number": 3
    }
   ],
   "metadata": {}
  }
 ]
}