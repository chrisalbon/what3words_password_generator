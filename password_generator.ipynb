{
 "metadata": {
  "name": "",
  "signature": "sha256:9d5e04e4572275a16730e0515e33c8582ca74a32c47cf2a40576ae1e0f3d57bd"
 },
 "nbformat": 3,
 "nbformat_minor": 0,
 "worksheets": [
  {
   "cells": [
    {
     "cell_type": "markdown",
     "metadata": {},
     "source": [
      "# Creating Passwords Using What3Words"
     ]
    },
    {
     "cell_type": "markdown",
     "metadata": {},
     "source": [
      "## Load modules"
     ]
    },
    {
     "cell_type": "code",
     "collapsed": false,
     "input": [
      "# import preliminaries\n",
      "import random\n",
      "import requests"
     ],
     "language": "python",
     "metadata": {},
     "outputs": [],
     "prompt_number": 13
    },
    {
     "cell_type": "markdown",
     "metadata": {},
     "source": [
      "## Create the function"
     ]
    },
    {
     "cell_type": "code",
     "collapsed": false,
     "input": [
      "# Create a make_password function that, \n",
      "# by default has numbers=true and symbol=true,\n",
      "def make_password(numbers=True, symbol=True):\n",
      "    # set the api key (change this to your own)\n",
      "    api_key = 'LQ7LSQ90'\n",
      "    \n",
      "    # Create a random latitude and longitude\n",
      "    latitude = float(random.uniform(-90.0000,90.0000))\n",
      "    longitude = float(random.uniform(-90.0000,90.0000))\n",
      "\n",
      "    # Construct a What3Words API request\n",
      "    url = 'http://api.what3words.com/position?key=%s&position=%f,%f' % (api_key, latitude, longitude)\n",
      "    \n",
      "    # Make the API request\n",
      "    r = requests.get(url)\n",
      "\n",
      "    # Load the requested doc as json\n",
      "    r_content = r.json()\n",
      "    \n",
      "    # Grab the list of words\n",
      "    words = r_content['words']\n",
      "    \n",
      "    # Create two empty string varables, one for digits \n",
      "    # and one for characters. We do this so\n",
      "    # if numbers and symbols is false\n",
      "    # the password string is still created\n",
      "    digits = ''\n",
      "    character = ''\n",
      "\n",
      "    # If number is true, we create a random number\n",
      "    # as a strong\n",
      "    if numbers == True:\n",
      "        digits = str(random.randint(0,100))\n",
      "\n",
      "    # If symbol is true, we choose a random character\n",
      "    if symbol == True:\n",
      "        character = random.choice(['+', '-', '%', '@', '=', '?', '!'])\n",
      "\n",
      "    # Construct the password using all three words, digits, and characters\n",
      "    password = words[0] + words[1] + words[2] + digits + character\n",
      "    \n",
      "    # Returns the password\n",
      "    return password"
     ],
     "language": "python",
     "metadata": {},
     "outputs": [],
     "prompt_number": 14
    },
    {
     "cell_type": "markdown",
     "metadata": {},
     "source": [
      "## Run the function"
     ]
    },
    {
     "cell_type": "code",
     "collapsed": false,
     "input": [
      "# Run make_password\n",
      "make_password(numbers=True, symbol=False)"
     ],
     "language": "python",
     "metadata": {},
     "outputs": [
      {
       "metadata": {},
       "output_type": "pyout",
       "prompt_number": 15,
       "text": [
        "'sandbagroamedsubregions94'"
       ]
      }
     ],
     "prompt_number": 15
    }
   ],
   "metadata": {}
  }
 ]
}